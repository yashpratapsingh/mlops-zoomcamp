{
 "cells": [
  {
   "cell_type": "code",
   "execution_count": 1,
   "id": "b2bd82d7",
   "metadata": {},
   "outputs": [
    {
     "name": "stdout",
     "output_type": "stream",
     "text": [
      "Python 3.9.24\n"
     ]
    }
   ],
   "source": [
    "!python -V"
   ]
  },
  {
   "cell_type": "code",
   "execution_count": null,
   "id": "81230637",
   "metadata": {},
   "outputs": [],
   "source": [
    "mlflow server \\\n",
    "\n",
    "    --backend-store-uri sqlite:///mlflow.db \\\n",
    "\n",
    "    --default-artifact-root ./mlruns \\\n",
    "\n",
    "    --host 0.0.0.0 \\\n",
    "\n",
    "    --port 5000\n",
    "\n",
    " "
   ]
  },
  {
   "cell_type": "code",
   "execution_count": 2,
   "id": "41062d8a",
   "metadata": {},
   "outputs": [],
   "source": [
    "import pandas as pd"
   ]
  },
  {
   "cell_type": "code",
   "execution_count": 3,
   "id": "c984c564",
   "metadata": {},
   "outputs": [],
   "source": [
    "import pickle"
   ]
  },
  {
   "cell_type": "code",
   "execution_count": 4,
   "id": "8b135c2b",
   "metadata": {},
   "outputs": [],
   "source": [
    "from sklearn.feature_extraction import DictVectorizer\n",
    "from sklearn.metrics import root_mean_squared_error"
   ]
  },
  {
   "cell_type": "code",
   "execution_count": 6,
   "id": "1464985f",
   "metadata": {},
   "outputs": [
    {
     "data": {
      "text/plain": [
       "<Experiment: artifact_location='/workspaces/mlops-zoomcamp/03-Orchestration/artifacts/1', creation_time=1761664682548, experiment_id='1', last_update_time=1761664682548, lifecycle_stage='active', name='nyc-taxi-experiment', tags={}>"
      ]
     },
     "execution_count": 6,
     "metadata": {},
     "output_type": "execute_result"
    }
   ],
   "source": [
    "import mlflow\n",
    "\n",
    "mlflow.set_tracking_uri(\"http://localhost:5000\")\n",
    "mlflow.set_experiment(\"nyc-taxi-experiment\")"
   ]
  },
  {
   "cell_type": "code",
   "execution_count": 7,
   "id": "f9e6479e",
   "metadata": {},
   "outputs": [],
   "source": [
    "def read_dataframe(filename):\n",
    "    df = pd.read_parquet(filename)\n",
    "\n",
    "    df['duration'] = df.lpep_dropoff_datetime - df.lpep_pickup_datetime\n",
    "    df.duration = df.duration.apply(lambda td: td.total_seconds() / 60)\n",
    "\n",
    "    df = df[(df.duration >= 1) & (df.duration <= 60)]\n",
    "\n",
    "    categorical = ['PULocationID', 'DOLocationID']\n",
    "    df[categorical] = df[categorical].astype(str)\n",
    "    df['PU_DO'] = df['PULocationID'] + '_' + df['DOLocationID']\n",
    "    return df"
   ]
  },
  {
   "cell_type": "code",
   "execution_count": 8,
   "id": "8029eba0",
   "metadata": {},
   "outputs": [],
   "source": [
    "df_train = read_dataframe('https://d37ci6vzurychx.cloudfront.net/trip-data/green_tripdata_2021-01.parquet')\n",
    "df_val = read_dataframe('https://d37ci6vzurychx.cloudfront.net/trip-data/green_tripdata_2021-02.parquet')"
   ]
  },
  {
   "cell_type": "code",
   "execution_count": 9,
   "id": "c5cbfc25",
   "metadata": {},
   "outputs": [],
   "source": [
    "categorical = ['PU_DO'] #'PULocationID', 'DOLocationID']\n",
    "numerical = ['trip_distance']\n",
    "\n",
    "dv = DictVectorizer()\n",
    "\n",
    "train_dicts = df_train[categorical + numerical].to_dict(orient='records')\n",
    "X_train = dv.fit_transform(train_dicts)\n",
    "\n",
    "val_dicts = df_val[categorical + numerical].to_dict(orient='records')\n",
    "X_val = dv.transform(val_dicts)"
   ]
  },
  {
   "cell_type": "code",
   "execution_count": 10,
   "id": "1e9fb68b",
   "metadata": {},
   "outputs": [],
   "source": [
    "target = 'duration'\n",
    "y_train = df_train[target].values\n",
    "y_val = df_val[target].values"
   ]
  },
  {
   "cell_type": "code",
   "execution_count": 11,
   "id": "5f56e97b",
   "metadata": {},
   "outputs": [],
   "source": [
    "import xgboost as xgb"
   ]
  },
  {
   "cell_type": "code",
   "execution_count": 18,
   "id": "b422605c",
   "metadata": {},
   "outputs": [],
   "source": [
    "from pathlib import Path\n",
    "models_folder = Path('models')\n",
    "models_folder.mkdir(exist_ok=True)"
   ]
  },
  {
   "cell_type": "code",
   "execution_count": 12,
   "id": "0e8cd729",
   "metadata": {},
   "outputs": [
    {
     "name": "stderr",
     "output_type": "stream",
     "text": [
      "/home/codespace/anaconda3/envs/exp-tracking-env/lib/python3.9/site-packages/xgboost/core.py:158: UserWarning: [12:45:10] WARNING: /workspace/src/objective/regression_obj.cu:227: reg:linear is now deprecated in favor of reg:squarederror.\n",
      "  warnings.warn(smsg, UserWarning)\n"
     ]
    },
    {
     "name": "stdout",
     "output_type": "stream",
     "text": [
      "[0]\tvalidation-rmse:11.44482\n",
      "[1]\tvalidation-rmse:10.77202\n",
      "[2]\tvalidation-rmse:10.18363\n",
      "[3]\tvalidation-rmse:9.67396\n",
      "[4]\tvalidation-rmse:9.23166\n",
      "[5]\tvalidation-rmse:8.84808\n",
      "[6]\tvalidation-rmse:8.51883\n",
      "[7]\tvalidation-rmse:8.23597\n",
      "[8]\tvalidation-rmse:7.99320\n",
      "[9]\tvalidation-rmse:7.78709\n",
      "[10]\tvalidation-rmse:7.61022\n",
      "[11]\tvalidation-rmse:7.45952\n",
      "[12]\tvalidation-rmse:7.33049\n",
      "[13]\tvalidation-rmse:7.22098\n",
      "[14]\tvalidation-rmse:7.12713\n",
      "[15]\tvalidation-rmse:7.04752\n",
      "[16]\tvalidation-rmse:6.98005\n",
      "[17]\tvalidation-rmse:6.92232\n",
      "[18]\tvalidation-rmse:6.87112\n",
      "[19]\tvalidation-rmse:6.82740\n",
      "[20]\tvalidation-rmse:6.78995\n",
      "[21]\tvalidation-rmse:6.75792\n",
      "[22]\tvalidation-rmse:6.72994\n",
      "[23]\tvalidation-rmse:6.70547\n",
      "[24]\tvalidation-rmse:6.68390\n",
      "[25]\tvalidation-rmse:6.66421\n",
      "[26]\tvalidation-rmse:6.64806\n",
      "[27]\tvalidation-rmse:6.63280\n",
      "[28]\tvalidation-rmse:6.61924\n",
      "[29]\tvalidation-rmse:6.60773\n"
     ]
    },
    {
     "name": "stderr",
     "output_type": "stream",
     "text": [
      "2025/10/31 12:45:45 WARNING mlflow.models.model: `artifact_path` is deprecated. Please use `name` instead.\n",
      "/home/codespace/anaconda3/envs/exp-tracking-env/lib/python3.9/site-packages/xgboost/core.py:158: UserWarning: [12:45:45] WARNING: /workspace/src/c_api/c_api.cc:1374: Saving model in the UBJSON format as default.  You can use file extension: `json`, `ubj` or `deprecated` to choose between formats.\n",
      "  warnings.warn(smsg, UserWarning)\n",
      "\u001b[31m2025/10/31 12:45:49 WARNING mlflow.models.model: Model logged without a signature and input example. Please set `input_example` parameter when logging the model to auto infer the model signature.\u001b[0m\n"
     ]
    },
    {
     "name": "stdout",
     "output_type": "stream",
     "text": [
      "🏃 View run persistent-yak-513 at: http://localhost:5000/#/experiments/1/runs/7b6d6b04648d4c268941d92c1aac31e8\n",
      "🧪 View experiment at: http://localhost:5000/#/experiments/1\n"
     ]
    }
   ],
   "source": [
    "with mlflow.start_run():\n",
    "    \n",
    "    train = xgb.DMatrix(X_train, label=y_train)\n",
    "    valid = xgb.DMatrix(X_val, label=y_val)\n",
    "\n",
    "    best_params = {\n",
    "        'learning_rate': 0.09585355369315604,\n",
    "        'max_depth': 30,\n",
    "        'min_child_weight': 1.060597050922164,\n",
    "        'objective': 'reg:linear',\n",
    "        'reg_alpha': 0.018060244040060163,\n",
    "        'reg_lambda': 0.011658731377413597,\n",
    "        'seed': 42\n",
    "    }\n",
    "\n",
    "    mlflow.log_params(best_params)\n",
    "\n",
    "    booster = xgb.train(\n",
    "        params=best_params,\n",
    "        dtrain=train,\n",
    "        num_boost_round=30,\n",
    "        evals=[(valid, 'validation')],\n",
    "        early_stopping_rounds=50\n",
    "    )\n",
    "\n",
    "    y_pred = booster.predict(valid)\n",
    "    rmse = root_mean_squared_error(y_val, y_pred)\n",
    "    mlflow.log_metric(\"rmse\", rmse)\n",
    "\n",
    "    with open(\"models/preprocessor.b\", \"wb\") as f_out:\n",
    "        pickle.dump(dv, f_out)\n",
    "    mlflow.log_artifact(\"models/preprocessor.b\", artifact_path=\"preprocessor\")\n",
    "\n",
    "    mlflow.xgboost.log_model(booster, artifact_path=\"models_mlflow\")"
   ]
  },
  {
   "cell_type": "code",
   "execution_count": 13,
   "id": "e249bab4",
   "metadata": {},
   "outputs": [
    {
     "name": "stdout",
     "output_type": "stream",
     "text": [
      "   actual_duration  predicted_duration\n",
      "0        17.916667           16.125685\n",
      "1         6.500000            7.607263\n",
      "2        15.250000           19.447042\n",
      "3        18.233333           24.010212\n",
      "4         8.966667           10.241908\n",
      "5         7.850000           17.095030\n",
      "6         9.700000           14.144274\n",
      "7        11.283333            9.423327\n",
      "8         8.733333            9.298021\n",
      "9         1.716667           19.088913\n",
      "Average difference: 1.2705986995605845\n"
     ]
    }
   ],
   "source": [
    "import pandas as pd\n",
    "\n",
    "results = pd.DataFrame({\n",
    "    'actual_duration': y_val,\n",
    "    'predicted_duration': y_pred\n",
    "})\n",
    "print(results.head(10))\n",
    "results['difference'] = results['actual_duration'] - results['predicted_duration']\n",
    "print(\"Average difference:\", results['difference'].mean())\n",
    "\n",
    "results.to_csv(\"models/predictions_vs_actuals.csv\", index=False)\n",
    "mlflow.log_artifact(\"models/predictions_vs_actuals.csv\", artifact_path=\"predictions\")\n"
   ]
  },
  {
   "cell_type": "code",
   "execution_count": null,
   "id": "9a4a9214",
   "metadata": {},
   "outputs": [
    {
     "name": "stdout",
     "output_type": "stream",
     "text": [
      "       data          trip_creation_time  \\\n",
      "0  training  2018-09-20 02:35:36.476840   \n",
      "1  training  2018-09-20 02:35:36.476840   \n",
      "2  training  2018-09-20 02:35:36.476840   \n",
      "3  training  2018-09-20 02:35:36.476840   \n",
      "4  training  2018-09-20 02:35:36.476840   \n",
      "\n",
      "                                 route_schedule_uuid route_type  \\\n",
      "0  thanos::sroute:eb7bfc78-b351-4c0e-a951-fa3d5c3...    Carting   \n",
      "1  thanos::sroute:eb7bfc78-b351-4c0e-a951-fa3d5c3...    Carting   \n",
      "2  thanos::sroute:eb7bfc78-b351-4c0e-a951-fa3d5c3...    Carting   \n",
      "3  thanos::sroute:eb7bfc78-b351-4c0e-a951-fa3d5c3...    Carting   \n",
      "4  thanos::sroute:eb7bfc78-b351-4c0e-a951-fa3d5c3...    Carting   \n",
      "\n",
      "                 trip_uuid source_center                 source_name  \\\n",
      "0  trip-153741093647649320  IND388121AAA  Anand_VUNagar_DC (Gujarat)   \n",
      "1  trip-153741093647649320  IND388121AAA  Anand_VUNagar_DC (Gujarat)   \n",
      "2  trip-153741093647649320  IND388121AAA  Anand_VUNagar_DC (Gujarat)   \n",
      "3  trip-153741093647649320  IND388121AAA  Anand_VUNagar_DC (Gujarat)   \n",
      "4  trip-153741093647649320  IND388121AAA  Anand_VUNagar_DC (Gujarat)   \n",
      "\n",
      "  destination_center               destination_name  \\\n",
      "0       IND388620AAB  Khambhat_MotvdDPP_D (Gujarat)   \n",
      "1       IND388620AAB  Khambhat_MotvdDPP_D (Gujarat)   \n",
      "2       IND388620AAB  Khambhat_MotvdDPP_D (Gujarat)   \n",
      "3       IND388620AAB  Khambhat_MotvdDPP_D (Gujarat)   \n",
      "4       IND388620AAB  Khambhat_MotvdDPP_D (Gujarat)   \n",
      "\n",
      "                od_start_time  ...            cutoff_timestamp  \\\n",
      "0  2018-09-20 03:21:32.418600  ...         2018-09-20 04:27:55   \n",
      "1  2018-09-20 03:21:32.418600  ...         2018-09-20 04:17:55   \n",
      "2  2018-09-20 03:21:32.418600  ...  2018-09-20 04:01:19.505586   \n",
      "3  2018-09-20 03:21:32.418600  ...         2018-09-20 03:39:57   \n",
      "4  2018-09-20 03:21:32.418600  ...         2018-09-20 03:33:55   \n",
      "\n",
      "   actual_distance_to_destination  actual_time  osrm_time osrm_distance  \\\n",
      "0                       10.435660         14.0       11.0       11.9653   \n",
      "1                       18.936842         24.0       20.0       21.7243   \n",
      "2                       27.637279         40.0       28.0       32.5395   \n",
      "3                       36.118028         62.0       40.0       45.5620   \n",
      "4                       39.386040         68.0       44.0       54.2181   \n",
      "\n",
      "     factor  segment_actual_time  segment_osrm_time  segment_osrm_distance  \\\n",
      "0  1.272727                 14.0               11.0                11.9653   \n",
      "1  1.200000                 10.0                9.0                 9.7590   \n",
      "2  1.428571                 16.0                7.0                10.8152   \n",
      "3  1.550000                 21.0               12.0                13.0224   \n",
      "4  1.545455                  6.0                5.0                 3.9153   \n",
      "\n",
      "   segment_factor  \n",
      "0        1.272727  \n",
      "1        1.111111  \n",
      "2        2.285714  \n",
      "3        1.750000  \n",
      "4        1.200000  \n",
      "\n",
      "[5 rows x 24 columns]\n"
     ]
    },
    {
     "name": "stderr",
     "output_type": "stream",
     "text": [
      "2025/10/31 13:40:54 INFO mlflow.tracking.fluent: Experiment with name 'delhivery-duration-experiment' does not exist. Creating a new experiment.\n"
     ]
    },
    {
     "name": "stdout",
     "output_type": "stream",
     "text": [
      "[0]\tvalidation-rmse:539.48926\n",
      "[1]\tvalidation-rmse:486.27303\n",
      "[2]\tvalidation-rmse:438.52949\n",
      "[3]\tvalidation-rmse:395.56884\n",
      "[4]\tvalidation-rmse:356.87901\n",
      "[5]\tvalidation-rmse:321.95071\n",
      "[6]\tvalidation-rmse:290.58722\n",
      "[7]\tvalidation-rmse:262.33153\n",
      "[8]\tvalidation-rmse:236.81886\n",
      "[9]\tvalidation-rmse:213.98505\n",
      "[10]\tvalidation-rmse:193.30926\n",
      "[11]\tvalidation-rmse:174.78856\n",
      "[12]\tvalidation-rmse:158.08293\n",
      "[13]\tvalidation-rmse:143.06514\n",
      "[14]\tvalidation-rmse:129.54643\n",
      "[15]\tvalidation-rmse:117.40477\n",
      "[16]\tvalidation-rmse:106.47050\n",
      "[17]\tvalidation-rmse:96.65722\n",
      "[18]\tvalidation-rmse:87.89909\n",
      "[19]\tvalidation-rmse:80.01022\n",
      "[20]\tvalidation-rmse:72.95315\n",
      "[21]\tvalidation-rmse:66.68623\n",
      "[22]\tvalidation-rmse:61.07896\n",
      "[23]\tvalidation-rmse:56.03590\n",
      "[24]\tvalidation-rmse:51.59117\n",
      "[25]\tvalidation-rmse:47.68410\n",
      "[26]\tvalidation-rmse:44.16707\n",
      "[27]\tvalidation-rmse:41.09498\n",
      "[28]\tvalidation-rmse:38.37053\n",
      "[29]\tvalidation-rmse:35.99390\n",
      "[30]\tvalidation-rmse:33.94487\n",
      "[31]\tvalidation-rmse:32.10847\n",
      "[32]\tvalidation-rmse:30.52589\n",
      "[33]\tvalidation-rmse:29.12971\n",
      "[34]\tvalidation-rmse:27.92937\n",
      "[35]\tvalidation-rmse:26.89574\n",
      "[36]\tvalidation-rmse:26.04648\n",
      "[37]\tvalidation-rmse:25.23515\n",
      "[38]\tvalidation-rmse:24.58364\n",
      "[39]\tvalidation-rmse:23.98466\n",
      "[40]\tvalidation-rmse:23.48416\n",
      "[41]\tvalidation-rmse:23.04979\n",
      "[42]\tvalidation-rmse:22.69251\n",
      "[43]\tvalidation-rmse:22.42463\n",
      "[44]\tvalidation-rmse:22.12356\n",
      "[45]\tvalidation-rmse:21.90973\n",
      "[46]\tvalidation-rmse:21.66238\n",
      "[47]\tvalidation-rmse:21.45230\n",
      "[48]\tvalidation-rmse:21.26219\n",
      "[49]\tvalidation-rmse:21.12029\n",
      "[50]\tvalidation-rmse:20.99276\n",
      "[51]\tvalidation-rmse:20.84250\n",
      "[52]\tvalidation-rmse:20.73035\n",
      "[53]\tvalidation-rmse:20.65248\n",
      "[54]\tvalidation-rmse:20.55884\n",
      "[55]\tvalidation-rmse:20.46422\n",
      "[56]\tvalidation-rmse:20.39790\n",
      "[57]\tvalidation-rmse:20.35790\n",
      "[58]\tvalidation-rmse:20.31018\n",
      "[59]\tvalidation-rmse:20.25888\n",
      "[60]\tvalidation-rmse:20.21933\n",
      "[61]\tvalidation-rmse:20.16533\n",
      "[62]\tvalidation-rmse:20.12734\n",
      "[63]\tvalidation-rmse:20.05720\n",
      "[64]\tvalidation-rmse:19.99294\n",
      "[65]\tvalidation-rmse:19.91166\n",
      "[66]\tvalidation-rmse:19.87958\n",
      "[67]\tvalidation-rmse:19.83941\n",
      "[68]\tvalidation-rmse:19.76252\n",
      "[69]\tvalidation-rmse:19.73906\n",
      "[70]\tvalidation-rmse:19.70154\n",
      "[71]\tvalidation-rmse:19.67312\n",
      "[72]\tvalidation-rmse:19.66073\n",
      "[73]\tvalidation-rmse:19.61951\n",
      "[74]\tvalidation-rmse:19.61381\n",
      "[75]\tvalidation-rmse:19.55735\n",
      "[76]\tvalidation-rmse:19.53181\n",
      "[77]\tvalidation-rmse:19.52839\n",
      "[78]\tvalidation-rmse:19.52441\n",
      "[79]\tvalidation-rmse:19.51545\n",
      "[80]\tvalidation-rmse:19.49966\n",
      "[81]\tvalidation-rmse:19.43944\n",
      "[82]\tvalidation-rmse:19.42926\n",
      "[83]\tvalidation-rmse:19.42166\n",
      "[84]\tvalidation-rmse:19.39919\n",
      "[85]\tvalidation-rmse:19.39404\n",
      "[86]\tvalidation-rmse:19.34888\n",
      "[87]\tvalidation-rmse:19.33490\n",
      "[88]\tvalidation-rmse:19.32540\n",
      "[89]\tvalidation-rmse:19.31906\n",
      "[90]\tvalidation-rmse:19.30365\n",
      "[91]\tvalidation-rmse:19.30072\n",
      "[92]\tvalidation-rmse:19.28750\n",
      "[93]\tvalidation-rmse:19.27975\n",
      "[94]\tvalidation-rmse:19.25730\n",
      "[95]\tvalidation-rmse:19.24951\n",
      "[96]\tvalidation-rmse:19.20548\n",
      "[97]\tvalidation-rmse:19.20083\n",
      "[98]\tvalidation-rmse:19.16020\n",
      "[99]\tvalidation-rmse:19.15957\n",
      "✅ RMSE: 19.160, MAE: 7.227, R²: 0.999\n"
     ]
    },
    {
     "name": "stderr",
     "output_type": "stream",
     "text": [
      "2025/10/31 13:40:58 WARNING mlflow.models.model: `artifact_path` is deprecated. Please use `name` instead.\n",
      "/home/codespace/anaconda3/envs/exp-tracking-env/lib/python3.9/site-packages/xgboost/core.py:158: UserWarning: [13:40:58] WARNING: /workspace/src/c_api/c_api.cc:1374: Saving model in the UBJSON format as default.  You can use file extension: `json`, `ubj` or `deprecated` to choose between formats.\n",
      "  warnings.warn(smsg, UserWarning)\n",
      "\u001b[31m2025/10/31 13:41:02 WARNING mlflow.models.model: Model logged without a signature and input example. Please set `input_example` parameter when logging the model to auto infer the model signature.\u001b[0m\n"
     ]
    },
    {
     "name": "stdout",
     "output_type": "stream",
     "text": [
      "🏃 View run redolent-bird-597 at: http://localhost:5000/#/experiments/2/runs/0edac139aa534c00bf444964c9be4dda\n",
      "🧪 View experiment at: http://localhost:5000/#/experiments/2\n"
     ]
    }
   ],
   "source": [
    "import pandas as pd\n",
    "import pickle\n",
    "from sklearn.feature_extraction import DictVectorizer\n",
    "from sklearn.model_selection import train_test_split\n",
    "from sklearn.metrics import root_mean_squared_error, mean_absolute_error, r2_score\n",
    "import xgboost as xgb\n",
    "import mlflow\n",
    "from pathlib import Path\n",
    "\n",
    "\n",
    "df = pd.read_csv(\"/workspaces/mlops-zoomcamp/03-Orchestration/delhivery_data.csv\") \n",
    "print(df.head())\n",
    "\n",
    "df = df.drop(columns=['data', 'trip_creation_time', 'route_schedule_uuid', 'trip_uuid', 'cutoff_timestamp'], errors='ignore')\n",
    "\n",
    "target = 'actual_time'\n",
    "\n",
    "categorical = [\n",
    "    'source_name',\n",
    "    'destination_name',\n",
    "    'route_type',\n",
    "    'is_cutoff'\n",
    "]\n",
    "\n",
    "numerical = [\n",
    "    'actual_distance_to_destination',\n",
    "    'osrm_time',\n",
    "    'osrm_distance',\n",
    "    'factor',\n",
    "    'segment_osrm_time',\n",
    "    'segment_osrm_distance',\n",
    "    'segment_factor'\n",
    "]\n",
    "df = df.dropna(subset=[target])\n",
    "df_train, df_val = train_test_split(df, test_size=0.2, random_state=42)\n",
    "\n",
    "dv = DictVectorizer()\n",
    "\n",
    "train_dicts = df_train[categorical + numerical].to_dict(orient='records')\n",
    "X_train = dv.fit_transform(train_dicts)\n",
    "\n",
    "val_dicts = df_val[categorical + numerical].to_dict(orient='records')\n",
    "X_val = dv.transform(val_dicts)\n",
    "\n",
    "y_train = df_train[target].values\n",
    "y_val = df_val[target].values\n",
    "\n",
    "mlflow.set_tracking_uri(\"http://localhost:5000\")\n",
    "mlflow.set_experiment(\"delhivery-duration-experiment\")\n",
    "\n",
    "models_folder = Path('models')\n",
    "models_folder.mkdir(exist_ok=True)\n",
    "\n",
    "with mlflow.start_run():\n",
    "    train = xgb.DMatrix(X_train, label=y_train)\n",
    "    valid = xgb.DMatrix(X_val, label=y_val)\n",
    "\n",
    "    params = {\n",
    "        'objective': 'reg:squarederror',\n",
    "        'eval_metric': 'rmse',\n",
    "        'learning_rate': 0.1,\n",
    "        'max_depth': 6,\n",
    "        'min_child_weight': 1,\n",
    "        'seed': 42\n",
    "    }\n",
    "\n",
    "    mlflow.log_params(params)\n",
    "\n",
    "    booster = xgb.train(\n",
    "        params=params,\n",
    "        dtrain=train,\n",
    "        num_boost_round=100,\n",
    "        evals=[(valid, 'validation')],\n",
    "        early_stopping_rounds=10\n",
    "    )\n",
    "\n",
    "\n",
    "    y_pred = booster.predict(valid)\n",
    "\n",
    "    rmse = root_mean_squared_error(y_val, y_pred)\n",
    "\n",
    "    print(f\"RMSE: {rmse:.3f}\")\n",
    "\n",
    "    mlflow.log_metric(\"rmse\", rmse)\n",
    "    with open(\"models/preprocessor_delhivery.b\", \"wb\") as f_out:\n",
    "        pickle.dump(dv, f_out)\n",
    "    mlflow.log_artifact(\"models/preprocessor_delhivery.b\", artifact_path=\"preprocessor\")\n",
    "\n",
    "    mlflow.xgboost.log_model(booster, artifact_path=\"model\")\n",
    "    results = pd.DataFrame({\n",
    "        \"actual_duration\": y_val,\n",
    "        \"predicted_duration\": y_pred\n",
    "    })\n",
    "    results.to_csv(\"models/delhivery_predictions.csv\", index=False)\n",
    "    mlflow.log_artifact(\"models/delhivery_predictions.csv\", artifact_path=\"predictions\")"
   ]
  },
  {
   "cell_type": "code",
   "execution_count": null,
   "id": "f54a5926",
   "metadata": {},
   "outputs": [
    {
     "name": "stdout",
     "output_type": "stream",
     "text": [
      "   actual_duration  predicted_duration  difference\n",
      "0            440.0          442.456970   -2.456970\n",
      "1             57.0           48.008472    8.991528\n",
      "2            238.0          241.649765   -3.649765\n",
      "3           1724.0         1711.571899   12.428101\n",
      "4            999.0          996.462341    2.537659\n",
      "5            793.0          786.916626    6.083374\n",
      "6            276.0          279.496216   -3.496216\n",
      "7            764.0          745.722717   18.277283\n",
      "8             65.0           67.620132   -2.620132\n",
      "9            894.0          896.887451   -2.887451\n",
      "\n",
      "Average difference: 0.07410632733718747\n",
      "✅ Saved results to models/predictions_vs_actuals.csv\n",
      "✅ Logged artifact to MLflow under 'predictions/'\n"
     ]
    }
   ],
   "source": [
    "import pandas as pd\n",
    "import os\n",
    "import mlflow\n",
    "\n",
    "results = pd.DataFrame({\n",
    "    'actual_duration': y_val,\n",
    "    'predicted_duration': y_pred\n",
    "})\n",
    "\n",
    "results['difference'] = results['actual_duration'] - results['predicted_duration']\n",
    "print(results.head(10))\n",
    "print(\"\\nAverage difference:\", results['difference'].mean())\n",
    "\n",
    "os.makedirs(\"models\", exist_ok=True)\n",
    "results.to_csv(\"models/predictions_vs_actuals.csv\", index=False)\n",
    "print(\"Saved results to models/predictions_vs_actuals.csv\")\n",
    "\n",
    "mlflow.log_artifact(\"models/predictions_vs_actuals.csv\", artifact_path=\"predictions\")\n",
    "print(\"Logged artifact to MLflow under 'predictions/'\")\n"
   ]
  }
 ],
 "metadata": {
  "kernelspec": {
   "display_name": "exp-tracking-env",
   "language": "python",
   "name": "python3"
  },
  "language_info": {
   "codemirror_mode": {
    "name": "ipython",
    "version": 3
   },
   "file_extension": ".py",
   "mimetype": "text/x-python",
   "name": "python",
   "nbconvert_exporter": "python",
   "pygments_lexer": "ipython3",
   "version": "3.9.24"
  }
 },
 "nbformat": 4,
 "nbformat_minor": 5
}
